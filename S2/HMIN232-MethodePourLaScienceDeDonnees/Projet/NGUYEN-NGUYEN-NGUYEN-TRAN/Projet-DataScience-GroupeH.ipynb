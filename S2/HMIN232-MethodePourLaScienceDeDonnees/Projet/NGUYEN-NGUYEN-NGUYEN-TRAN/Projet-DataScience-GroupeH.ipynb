{
 "cells": [
  {
   "cell_type": "code",
   "execution_count": 1,
   "metadata": {
    "scrolled": false
   },
   "outputs": [],
   "source": [
    "# Groupe H :\n",
    "# Nom - numéro d'étudiant\n",
    "# \n",
    "# NGUYEN Hoai Nam - 21512583 \n",
    "# \n",
    "# NGUYEN Huu Khang - 21506865\n",
    "# \n",
    "# NGUYEN Tran Tuan Nam - 21914400\n",
    "#\n",
    "# TRAN Thi Tra My - 21511002\n",
    "import re\n",
    "import pandas as pd\n",
    "import seaborn as sns\n",
    "import matplotlib.pyplot as plt\n",
    "\n",
    "#Load file\n",
    "data = pd.read_csv('Dataset/claim_extraction_18_10_2019_annotated.csv', sep=',')"
   ]
  },
  {
   "cell_type": "markdown",
   "metadata": {},
   "source": [
    "# Import outil sklearn"
   ]
  },
  {
   "cell_type": "code",
   "execution_count": 2,
   "metadata": {},
   "outputs": [],
   "source": [
    "import time\n",
    "import sklearn\n",
    "from sklearn.utils import resample\n",
    "from sklearn.linear_model import LogisticRegression\n",
    "from sklearn.naive_bayes import GaussianNB\n",
    "from sklearn.neighbors import KNeighborsClassifier\n",
    "from sklearn.tree import DecisionTreeClassifier\n",
    "from sklearn.ensemble import RandomForestClassifier\n",
    "from sklearn.svm import SVC\n",
    "from sklearn.svm import LinearSVC\n",
    "from sklearn.metrics import confusion_matrix\n",
    "from sklearn.metrics import classification_report\n",
    "from sklearn.model_selection import GridSearchCV\n",
    "from sklearn.preprocessing import StandardScaler\n",
    "from sklearn.model_selection import train_test_split\n",
    "from sklearn.model_selection import KFold\n",
    "from sklearn.model_selection import cross_val_score\n",
    "from sklearn.feature_extraction.text import TfidfVectorizer\n",
    "from sklearn.metrics import accuracy_score\n",
    "from sklearn import preprocessing\n",
    "from sklearn.decomposition import PCA\n",
    "from sklearn.pipeline import Pipeline\n",
    "from sklearn.feature_selection import SelectFromModel\n",
    "\n",
    "# Sickit learn met régulièrement à jour des versions et indique des futurs warnings\n",
    "# Ces deux lignes permettent de ne pas les afficher\n",
    "import warnings\n",
    "warnings.filterwarnings(\"ignore\", category = FutureWarning)\n",
    "\n",
    "#Import outil nltk pour traitement\n",
    "import nltk\n",
    "import unicodedata\n",
    "import contractions\n",
    "import inflect\n",
    "#nltk.download('all')\n",
    "from nltk.corpus import stopwords\n",
    "from nltk.tokenize import word_tokenize\n",
    "from nltk.stem import WordNetLemmatizer\n",
    "from nltk.corpus import wordnet\n",
    "#pickle\n",
    "import pickle\n"
   ]
  },
  {
   "cell_type": "markdown",
   "metadata": {},
   "source": [
    "# Prétraitement"
   ]
  },
  {
   "cell_type": "code",
   "execution_count": 186,
   "metadata": {},
   "outputs": [],
   "source": [
    "#initialize data3 \n",
    "data3 = data.copy()\n",
    "\n",
    "#Pré-traitement choisis : \n",
    "#On supprime les colonnes qui contiennent beaucoup des valeurs null\n",
    "#Les valeurs qui augmente le temps d'exécution mais n'augmente pas une précision considérable\n",
    "data3 = data3.drop('claimReview_author', 1)#manque beaucoup de valeur\n",
    "data3 = data3.drop('claimReview_author_name', 1)# celui ci baisse la precision\n",
    "data3 = data3.drop('creativeWork_author_sameAs', 1)#manque beaucoup de valeur\n",
    "data3 = data3.drop('claimReview_author_url', 1)\n",
    "data3 = data3.drop('claimReview_source', 1)#les données qui répetè beaucoup, celui ci baisse la précision\n",
    "data3 = data3.drop('extra_entities_author', 1)#rend le classification très lourd\n",
    "data3 = data3.drop('extra_entities_body', 1)#rend le classification très lourd\n",
    "data3 = data3.drop('extra_entities_claimReview_claimReviewed', 1)#rend le classification très lourd\n",
    "data3 = data3.drop('extra_entities_keywords', 1)#rend le classification très lourd\n",
    "data3 = data3.drop('extra_refered_links',1) #ne servent pas pour l'analyse et baisse la précision\n",
    "\n",
    "######Stop words\n",
    "#initialize stop words type\n",
    "stop_words = stopwords.words('english')\n",
    "\n",
    "#pos-tagging\n",
    "def get_wordnet_pos(word):\n",
    "    \"\"\"Map POS tag to first character lemmatize() accepts\"\"\"\n",
    "    tag = nltk.pos_tag([word])[0][1][0].upper()\n",
    "    tag_dict = {\"J\": wordnet.ADJ,\n",
    "                \"N\": wordnet.NOUN,\n",
    "                \"V\": wordnet.VERB,\n",
    "                \"R\": wordnet.ADV}\n",
    "\n",
    "    return tag_dict.get(tag, wordnet.NOUN)\n",
    "\n",
    "######Pre traiter le données du texte\n",
    "def pretraiter(text):  \n",
    "    if(isinstance(text, str) and text ) :\n",
    "        #Remove contractions\n",
    "        text = contractions.fix(text)\n",
    "\n",
    "        #remove URL\n",
    "        text = re.sub(r\"http\\S+\", \"\", text)\n",
    "        \n",
    "        #remove photo url\n",
    "        text = re.sub(r\"pic.\\S+\", \"\", text)\n",
    "\n",
    "        # Tokenizing\n",
    "        tokenizedText = word_tokenize(text)\n",
    "        \n",
    "        #Remove non-ASCII characters from list of tokenized words\n",
    "        new_words = []\n",
    "        for word in tokenizedText:\n",
    "            new_word = unicodedata.normalize('NFKD', word).encode('ascii', 'ignore').decode('utf-8', 'ignore')\n",
    "            new_words.append(new_word)\n",
    "        tokenizeText = new_words\n",
    "\n",
    "        # Put all words in lowercase\n",
    "        tokenizedText = [word.lower() for word in tokenizedText]\n",
    "\n",
    "        # Delete ponctuations\n",
    "        tokenizedText = [word for word in tokenizedText if word.isalpha()]\n",
    "\n",
    "        #remove stop_word\n",
    "        tokenizedText = [word for word in tokenizedText if not word in stop_words]\n",
    "        \n",
    "        # Converting numbers\n",
    "        p = inflect.engine()\n",
    "        newWords = []\n",
    "        for word in tokenizedText:\n",
    "            if word.isdigit():\n",
    "                newWords.append(p.number_to_words(word))\n",
    "            else:\n",
    "                newWords.append(word)\n",
    "        tokenizedText = newWords\n",
    "\n",
    "        # Lemmatization + pos-tagging\n",
    "        lemmatizer = WordNetLemmatizer()\n",
    "        #tokenizedText = [lemmatizer.lemmatize(word, get_wordnet_pos(word)) for word in tokenizedText]\n",
    "        tokenizedText = [lemmatizer.lemmatize(word, 'v') for word in tokenizedText]\n",
    "        # Turning back tokens into a string\n",
    "        text = \"\".join([\" \" + i for i in tokenizedText]).strip()\n",
    "        return text\n",
    "    \n",
    "    \n",
    "##### Prétraiter alternateName\n",
    "def pretraiter_alternatename (text) :\n",
    "    if(isinstance(text, str) and text ) :\n",
    "        # Tokenizing\n",
    "        tokenizedText = word_tokenize(text)\n",
    "        \n",
    "        # Put all words in lowercase\n",
    "        tokenizedText = [word.lower() for word in tokenizedText]\n",
    "        \n",
    "        if tokenizedText[0] == 'true':\n",
    "            return 1\n",
    "        else :\n",
    "            return 0\n",
    "        \n",
    "    else :\n",
    "        return 0\n",
    "    \n",
    "def pretraiter_alternatename_bis (text) :\n",
    "    if(isinstance(text, str) and text ) :\n",
    "        # Tokenizing\n",
    "        tokenizedText = word_tokenize(text)\n",
    "        \n",
    "        # Put all words in lowercase\n",
    "        tokenizedText = [word.lower() for word in tokenizedText]\n",
    "        \n",
    "        if tokenizedText[0] == 'true' or tokenizedText[1] == 'false':\n",
    "            return 1\n",
    "        else :\n",
    "            return 0\n",
    "        \n",
    "    else :\n",
    "        return 0\n",
    "    "
   ]
  },
  {
   "cell_type": "code",
   "execution_count": 187,
   "metadata": {},
   "outputs": [],
   "source": [
    "#Exécution pretraitement\n",
    "data3['extra_body'] = data['extra_body'].apply(lambda x: pretraiter(x))\n",
    "data3['claimReview_claimReviewed'] = data['claimReview_claimReviewed'].apply(lambda x: pretraiter(x))\n",
    "data3['rating_alternateName'] = data['rating_alternateName'].apply(lambda x: pretraiter_alternatename(x))"
   ]
  },
  {
   "cell_type": "code",
   "execution_count": 188,
   "metadata": {},
   "outputs": [],
   "source": [
    "#Prétraitement avec les fonctions existants\n",
    "data3 = data3[data3['extra_body'].notna()]\n",
    "data3['claimReview_claimReviewed'] = data3['claimReview_claimReviewed'].fillna('Inconnu')\n",
    "data3['creativeWork_author_name'] = data3['creativeWork_author_name'].fillna('Inconnu')\n",
    "data3['extra_tags'] = data3['extra_tags'].fillna('Inconnu')\n",
    "data3['claimReview_datePublished'] = data3['claimReview_datePublished'].fillna('Inconnu')\n",
    "data3['creativeWork_datePublished'] = data3['creativeWork_datePublished'].fillna('Inconnu')\n",
    "moyen_bestRating = data['rating_bestRating'].mean()\n",
    "moyen_ratingValue = data['rating_ratingValue'].mean()\n",
    "moyen_worstRating = data['rating_worstRating'].mean()\n",
    "data3['rating_bestRating'] = data3['rating_bestRating'].fillna(moyen_bestRating)\n",
    "data3['rating_ratingValue'] = data3['rating_ratingValue'].fillna(moyen_ratingValue)\n",
    "data3['rating_worstRating'] = data3['rating_worstRating'].fillna(moyen_worstRating)"
   ]
  },
  {
   "cell_type": "code",
   "execution_count": 190,
   "metadata": {},
   "outputs": [],
   "source": [
    "# Utilisation de Downsampling car nous avons beaucoup de valeur false\n",
    "data3_majority = data3[data3.rating_alternateName==0]\n",
    "data3_minority = data3[data3.rating_alternateName==1]\n",
    "data3_majority_downsampled = resample(data3_majority, replace = False, n_samples = 4594, random_state = 123)\n",
    "data3_downsampled = pd.concat([data3_majority_downsampled, data3_minority])\n"
   ]
  },
  {
   "cell_type": "code",
   "execution_count": 205,
   "metadata": {},
   "outputs": [],
   "source": [
    "le = preprocessing.LabelEncoder() #transformer les valeurs str en valeurs numérique\n",
    "#le_data = data3.apply(le.fit_transform)\n",
    "le_data = data3_downsampled.apply(le.fit_transform)#utilisation downsampling pour les données équilibrées\n",
    "array = le_data.values\n",
    "X = array[:,1:13]\n",
    "y = array[:,9]\n",
    "\n",
    "\n",
    "validation_size=0.3 #30% du jeu de données pour le test\n",
    "testsize= 1-validation_size\n",
    "seed=30\n",
    "X_train,X_test,y_train,y_test=train_test_split(X,y,train_size=validation_size,random_state=seed,test_size=testsize)"
   ]
  },
  {
   "cell_type": "markdown",
   "metadata": {},
   "source": [
    "# Utilisation de kFold pour le classifieurs avec les données par défauts"
   ]
  },
  {
   "cell_type": "code",
   "execution_count": 206,
   "metadata": {},
   "outputs": [
    {
     "name": "stdout",
     "output_type": "stream",
     "text": [
      "Time pour RFC   2.661090612411499\n",
      "RFC: 1.000000 (0.000000)\n",
      "Time pour LR   1.4712328910827637\n",
      "LR: 1.000000 (0.000000)\n",
      "Time pour KNN   0.15308809280395508\n",
      "KNN: 0.572196 (0.015593)\n",
      "Time pour DTC   0.03128218650817871\n",
      "DTC: 1.000000 (0.000000)\n",
      "Time pour NB   0.026218891143798828\n",
      "NB: 1.000000 (0.000000)\n"
     ]
    }
   ],
   "source": [
    "seed = 10 \n",
    "scoring = 'accuracy'\n",
    "models = []\n",
    "models.append(('RFC', RandomForestClassifier()))\n",
    "models.append(('LR', LogisticRegression(max_iter=4000)))\n",
    "models.append(('KNN', KNeighborsClassifier(n_neighbors=4)))\n",
    "models.append(('DTC', DecisionTreeClassifier()))\n",
    "models.append(('NB', GaussianNB()))\n",
    "#models.append(('SVM', SVC(gamma='auto'))) #Le temps d'exécution était très important\n",
    "\n",
    "results = []\n",
    "names = []\n",
    "for name,model in models:\n",
    "    kfold = KFold(n_splits=10, shuffle = True, random_state=seed)\n",
    "    start_time = time.time()\n",
    "    cv_results = cross_val_score(model, X_train, y_train, cv=kfold, scoring = scoring)\n",
    "    #pour avoir les paramètres utilisés dans le modèle enlever commentaire ligne suivante\n",
    "    #print (model.get_params())\n",
    "    print (\"Time pour\",name,\" \",time.time() - start_time)\n",
    "    results.append(cv_results)\n",
    "    names.append(name)\n",
    "    msg = \"%s: %f (%f)\" % (name, cv_results.mean(), cv_results.std())\n",
    "    print(msg) "
   ]
  },
  {
   "cell_type": "code",
   "execution_count": 207,
   "metadata": {},
   "outputs": [
    {
     "data": {
      "text/plain": [
       "[Text(0, 0, 'RFC'),\n",
       " Text(0, 0, 'LR'),\n",
       " Text(0, 0, 'KNN'),\n",
       " Text(0, 0, 'DTC'),\n",
       " Text(0, 0, 'NB')]"
      ]
     },
     "execution_count": 207,
     "metadata": {},
     "output_type": "execute_result"
    },
    {
     "data": {
      "image/png": "[encoded data removed]",
      "text/plain": [
       "<Figure size 432x288 with 1 Axes>"
      ]
     },
     "metadata": {
      "needs_background": "light"
     },
     "output_type": "display_data"
    }
   ],
   "source": [
    "#Visualiser le résultat\n",
    "fig = plt.figure()\n",
    "fig.suptitle('Comparaison des algorithmes')\n",
    "ax = fig.add_subplot(111)\n",
    "plt.boxplot(results)\n",
    "ax.set_xticklabels(names)"
   ]
  },
  {
   "cell_type": "code",
   "execution_count": 208,
   "metadata": {},
   "outputs": [
    {
     "name": "stdout",
     "output_type": "stream",
     "text": [
      "\\DTC accuracy : 1.0 \n",
      "\n",
      "\n",
      " matrice de confusion \n",
      " [[3226    0]\n",
      " [   0 3206]]\n",
      "\n",
      "               precision    recall  f1-score   support\n",
      "\n",
      "           0       1.00      1.00      1.00      3226\n",
      "           1       1.00      1.00      1.00      3206\n",
      "\n",
      "    accuracy                           1.00      6432\n",
      "   macro avg       1.00      1.00      1.00      6432\n",
      "weighted avg       1.00      1.00      1.00      6432\n",
      "\n",
      "\\RFC accuracy : 1.0 \n",
      "\n",
      "\n",
      " matrice de confusion \n",
      " [[3226    0]\n",
      " [   0 3206]]\n",
      "\n",
      "               precision    recall  f1-score   support\n",
      "\n",
      "           0       1.00      1.00      1.00      3226\n",
      "           1       1.00      1.00      1.00      3206\n",
      "\n",
      "    accuracy                           1.00      6432\n",
      "   macro avg       1.00      1.00      1.00      6432\n",
      "weighted avg       1.00      1.00      1.00      6432\n",
      "\n"
     ]
    }
   ],
   "source": [
    "#classification DecisionTreeClassifier\n",
    "clf=DecisionTreeClassifier(random_state=40)\n",
    "clf.fit(X_train, y_train)\n",
    "result = clf.predict(X_test)\n",
    "print('\\DTC accuracy :', accuracy_score(result, y_test),'\\n')\n",
    "\n",
    "\n",
    "conf = confusion_matrix(y_test, result)\n",
    "print ('\\n matrice de confusion \\n',conf)\n",
    "print ('\\n',classification_report(y_test, result))\n",
    "\n",
    "#classification RandomForestClassifier\n",
    "clf=RandomForestClassifier()\n",
    "clf.fit(X_train, y_train)\n",
    "result = clf.predict(X_test)\n",
    "print('\\RFC accuracy :', accuracy_score(result, y_test),'\\n')\n",
    "\n",
    "conf = confusion_matrix(y_test, result)\n",
    "print ('\\n matrice de confusion \\n',conf)\n",
    "print ('\\n',classification_report(y_test, result))"
   ]
  },
  {
   "cell_type": "markdown",
   "metadata": {},
   "source": [
    "# Utilisation de Gris search pour multiples classifieurs et ses parametres"
   ]
  },
  {
   "cell_type": "code",
   "execution_count": 209,
   "metadata": {},
   "outputs": [],
   "source": [
    "#Initialiser les données\n",
    "classifiers = {\n",
    "    'RandomForestClassifier' : RandomForestClassifier(),\n",
    "    'LogisticRegression' : LogisticRegression(solver='lbfgs'),\n",
    "    'KNeighborsClassifier': KNeighborsClassifier(),\n",
    "    'DecisionTreeClassifier': DecisionTreeClassifier(),\n",
    "}\n",
    "\n",
    "parameters = {\n",
    "    'RandomForestClassifier' :[\n",
    "        {'n_estimators': [4, 6, 9]},\n",
    "        {'max_features': ['log2', 'sqrt','auto']},\n",
    "        {'criterion': ['entropy', 'gini']},\n",
    "        {'max_depth': [2, 3, 5, 10]},\n",
    "        {'min_samples_split': [2, 3, 5]},\n",
    "        {'min_samples_leaf': [1,5,8]}],\n",
    "    \n",
    "    'LogisticRegression': [\n",
    "        {'max_iter': [4000]},\n",
    "        {'penalty': ['l2']}, \n",
    "        {'C': [0.001,0.01,0.1,1,10,100,1000]}\n",
    "    ],\n",
    "    'KNeighborsClassifier' : [\n",
    "        {'n_neighbors': list(range(1,15))}, \n",
    "        {'metric': ['minkowski','euclidean','manhattan']}\n",
    "    ],\n",
    "    'DecisionTreeClassifier' : [\n",
    "        {'max_depth': [1,2,3,4,5,6,7,8,9,10]}, \n",
    "        {'criterion': ['gini', 'entropy']}, \n",
    "        {'min_samples_leaf': [1,2,3,4,5,6,7,8,9,10]}\n",
    "    ],\n",
    "}\n",
    "\n",
    "    \n",
    "class Result:\n",
    "    def __init__(self,name, score, parameters):\n",
    "        self.name = name\n",
    "        self.parameters = parameters\n",
    "        self.score = score\n",
    "\n",
    "    def __repr__(self):\n",
    "        return repr((self.name, self.score, self.parameters))\n",
    "    \n",
    "results = []\n",
    "for key, value in classifiers.items():\n",
    "    gd_sr = GridSearchCV(estimator = value, \n",
    "                         param_grid = parameters[key], \n",
    "                         scoring = \"accuracy\", \n",
    "                         cv = 5,\n",
    "                         n_jobs = -1,#utilisation de plusieurs coeur pour l'exécution\n",
    "                         iid = True)\n",
    "    \n",
    "    #gd_sr.fit(X, y)#données initiales\n",
    "    gd_sr.fit(X_train, y_train)\n",
    "    \n",
    "    result = Result(key, \n",
    "                    gd_sr.best_score_,\n",
    "                    gd_sr.best_estimator_)\n",
    "    results.append(result)"
   ]
  },
  {
   "cell_type": "code",
   "execution_count": 210,
   "metadata": {},
   "outputs": [
    {
     "name": "stdout",
     "output_type": "stream",
     "text": [
      "Results from best to worst: \n",
      "\n",
      "Classifier:  RandomForestClassifier  with score 1.00  avec  RandomForestClassifier(bootstrap=True, ccp_alpha=0.0, class_weight=None,\n",
      "                       criterion='gini', max_depth=None, max_features='auto',\n",
      "                       max_leaf_nodes=None, max_samples=None,\n",
      "                       min_impurity_decrease=0.0, min_impurity_split=None,\n",
      "                       min_samples_leaf=1, min_samples_split=2,\n",
      "                       min_weight_fraction_leaf=0.0, n_estimators=6,\n",
      "                       n_jobs=None, oob_score=False, random_state=None,\n",
      "                       verbose=0, warm_start=False) \n",
      "\n",
      "Classifier:  LogisticRegression  with score 1.00  avec  LogisticRegression(C=1.0, class_weight=None, dual=False, fit_intercept=True,\n",
      "                   intercept_scaling=1, l1_ratio=None, max_iter=4000,\n",
      "                   multi_class='auto', n_jobs=None, penalty='l2',\n",
      "                   random_state=None, solver='lbfgs', tol=0.0001, verbose=0,\n",
      "                   warm_start=False) \n",
      "\n",
      "Classifier:  DecisionTreeClassifier  with score 1.00  avec  DecisionTreeClassifier(ccp_alpha=0.0, class_weight=None, criterion='gini',\n",
      "                       max_depth=1, max_features=None, max_leaf_nodes=None,\n",
      "                       min_impurity_decrease=0.0, min_impurity_split=None,\n",
      "                       min_samples_leaf=1, min_samples_split=2,\n",
      "                       min_weight_fraction_leaf=0.0, presort='deprecated',\n",
      "                       random_state=None, splitter='best') \n",
      "\n",
      "Classifier:  KNeighborsClassifier  with score 0.62  avec  KNeighborsClassifier(algorithm='auto', leaf_size=30, metric='minkowski',\n",
      "                     metric_params=None, n_jobs=None, n_neighbors=12, p=2,\n",
      "                     weights='uniform') \n",
      "\n"
     ]
    }
   ],
   "source": [
    "results = sorted(results, key = lambda result: result.score, reverse = True)\n",
    "\n",
    "print(\"Results from best to worst: \\n\")\n",
    "for result in results:\n",
    "    print (\"Classifier: \", result.name,\n",
    "    \" with score %0.2f \" %result.score, \n",
    "    \"avec \", result.parameters,'\\n')\n"
   ]
  },
  {
   "cell_type": "markdown",
   "metadata": {},
   "source": [
    "# Utilisation d'une pipeline et GridSearchCV pour sauvegarder le meilleur modèle"
   ]
  },
  {
   "cell_type": "code",
   "execution_count": 236,
   "metadata": {},
   "outputs": [
    {
     "name": "stdout",
     "output_type": "stream",
     "text": [
      "Création du pipeline \n",
      "\n",
      "\n",
      " accuracy: 0.7518656716417911 \n",
      "\n",
      "\n",
      "Matrice de confusion: \n",
      " [[2447  779]\n",
      " [ 817 2389]] \n",
      "\n",
      "\n",
      "               precision    recall  f1-score   support\n",
      "\n",
      "           0       0.75      0.76      0.75      3226\n",
      "           1       0.75      0.75      0.75      3206\n",
      "\n",
      "    accuracy                           0.75      6432\n",
      "   macro avg       0.75      0.75      0.75      6432\n",
      "weighted avg       0.75      0.75      0.75      6432\n",
      " \n",
      "\n"
     ]
    }
   ],
   "source": [
    "print ('Création du pipeline \\n')\n",
    "clf = Pipeline([\n",
    "    ('scl', StandardScaler()),\n",
    "    ('pca', PCA(n_components=2)),\n",
    "    ('classification', RandomForestClassifier())\n",
    "])\n",
    "\n",
    "clf.fit(X_train, y_train)\n",
    "result = clf.predict(X_test)\n",
    "\n",
    "print('\\n accuracy:',accuracy_score(result, y_test),'\\n')\n",
    "\n",
    "matrix = confusion_matrix(y_test, result)\n",
    "print ('\\nMatrice de confusion: \\n', matrix, \"\\n\")\n",
    "\n",
    "print ('\\n', classification_report(y_test, result), \"\\n\")"
   ]
  },
  {
   "cell_type": "code",
   "execution_count": 216,
   "metadata": {},
   "outputs": [
    {
     "name": "stdout",
     "output_type": "stream",
     "text": [
      "Modèle chargé RandomForestClassifier(bootstrap=True, ccp_alpha=0.0, class_weight=None,\n",
      "                       criterion='gini', max_depth=None, max_features='auto',\n",
      "                       max_leaf_nodes=None, max_samples=None,\n",
      "                       min_impurity_decrease=0.0, min_impurity_split=None,\n",
      "                       min_samples_leaf=1, min_samples_split=2,\n",
      "                       min_weight_fraction_leaf=0.0, n_estimators=100,\n",
      "                       n_jobs=None, oob_score=False, random_state=None,\n",
      "                       verbose=0, warm_start=False) \n",
      "\n",
      "\n",
      " accuracy:\n",
      "\n",
      "1.0 \n",
      "\n",
      "\n",
      " matrice de confusion \n",
      " [[3226    0]\n",
      " [   0 3206]]\n",
      "\n",
      "               precision    recall  f1-score   support\n",
      "\n",
      "           0       1.00      1.00      1.00      3226\n",
      "           1       1.00      1.00      1.00      3206\n",
      "\n",
      "    accuracy                           1.00      6432\n",
      "   macro avg       1.00      1.00      1.00      6432\n",
      "weighted avg       1.00      1.00      1.00      6432\n",
      "\n"
     ]
    }
   ],
   "source": [
    "#Sauvegarder le modèle choisi\n",
    "\n",
    "clf=RandomForestClassifier()\n",
    "clf.fit(X_train, y_train)\n",
    "\n",
    "filename = 'pkl_modelDTC.sav'\n",
    "pickle.dump(clf, open(filename, 'wb'))\n",
    "\n",
    "clf_loaded = pickle.load(open(filename, 'rb'))\n",
    "print ('Modèle chargé',clf_loaded,'\\n')\n",
    "result = clf_loaded.predict(X_test)\n",
    "\n",
    "print('\\n accuracy:\\n')\n",
    "print (accuracy_score(result, y_test),'\\n')\n",
    "\n",
    "conf = confusion_matrix(y_test, result)\n",
    "print ('\\n matrice de confusion \\n',conf)\n",
    "print ('\\n',classification_report(y_test, result))\n"
   ]
  },
  {
   "cell_type": "code",
   "execution_count": null,
   "metadata": {},
   "outputs": [],
   "source": [
    "#Sauvegarder une csv\n",
    "data3.to_csv('clean_data_fact-checking.csv', sep=';', index=False)"
   ]
  },
  {
   "cell_type": "code",
   "execution_count": null,
   "metadata": {},
   "outputs": [],
   "source": []
  }
 ],
 "metadata": {
  "kernelspec": {
   "display_name": "Python 3",
   "language": "python",
   "name": "python3"
  },
  "language_info": {
   "codemirror_mode": {
    "name": "ipython",
    "version": 3
   },
   "file_extension": ".py",
   "mimetype": "text/x-python",
   "name": "python",
   "nbconvert_exporter": "python",
   "pygments_lexer": "ipython3",
   "version": "3.8.2"
  },
  "toc": {
   "base_numbering": 1,
   "nav_menu": {},
   "number_sections": true,
   "sideBar": true,
   "skip_h1_title": false,
   "title_cell": "Table of Contents",
   "title_sidebar": "Contents",
   "toc_cell": false,
   "toc_position": {},
   "toc_section_display": true,
   "toc_window_display": false
  },
  "varInspector": {
   "cols": {
    "lenName": 16,
    "lenType": 16,
    "lenVar": 40
   },
   "kernels_config": {
    "python": {
     "delete_cmd_postfix": "",
     "delete_cmd_prefix": "del ",
     "library": "var_list.py",
     "varRefreshCmd": "print(var_dic_list())"
    },
    "r": {
     "delete_cmd_postfix": ") ",
     "delete_cmd_prefix": "rm(",
     "library": "var_list.r",
     "varRefreshCmd": "cat(var_dic_list()) "
    }
   },
   "types_to_exclude": [
    "module",
    "function",
    "builtin_function_or_method",
    "instance",
    "_Feature"
   ],
   "window_display": false
  }
 },
 "nbformat": 4,
 "nbformat_minor": 4
}
