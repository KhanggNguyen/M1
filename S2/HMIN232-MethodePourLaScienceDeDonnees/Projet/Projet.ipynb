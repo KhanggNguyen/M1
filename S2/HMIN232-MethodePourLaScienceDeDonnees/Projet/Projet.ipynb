{
 "cells": [
  {
   "cell_type": "code",
   "execution_count": 3,
   "metadata": {
    "scrolled": false
   },
   "outputs": [
    {
     "name": "stdout",
     "output_type": "stream",
     "text": [
      "   Unnamed: 0  claimReview_author claimReview_author_name  \\\n",
      "0           0                 NaN                  snopes   \n",
      "\n",
      "   claimReview_author_url                          claimReview_claimReviewed  \\\n",
      "0                     NaN  Finnish President Sauli Niinistö posted a vide...   \n",
      "\n",
      "  claimReview_datePublished claimReview_source  \\\n",
      "0                2019-10-07             snopes   \n",
      "\n",
      "                                     claimReview_url  \\\n",
      "0  https://www.snopes.com/fact-check/president-fi...   \n",
      "\n",
      "   creativeWork_author_name  creativeWork_author_sameAs  ...  \\\n",
      "0                       NaN                         NaN  ...   \n",
      "\n",
      "                                 extra_entities_body  \\\n",
      "0  [{\"id\" : 33057\",\"\"begin\": 46,\"end\": 57,\"entity...   \n",
      "\n",
      "            extra_entities_claimReview_claimReviewed extra_entities_keywords  \\\n",
      "0  [{\"id\" : 1042690\",\"\"begin\": 18,\"end\": 32,\"enti...                      []   \n",
      "\n",
      "                                 extra_refered_links extra_tags  \\\n",
      "0  https://t.co/Oo5Q56ALAu,https://twitter.com/ia...        NaN   \n",
      "\n",
      "                                         extra_title rating_alternateName  \\\n",
      "0  Did the President of Finland Post a Video Resp...                False   \n",
      "\n",
      "  rating_bestRating rating_ratingValue rating_worstRating  \n",
      "0               NaN                NaN                NaN  \n",
      "\n",
      "[1 rows x 23 columns]\n"
     ]
    }
   ],
   "source": [
    "import pandas as pd\n",
    "data = pd.read_csv('Dataset/claim_extraction_18_10_2019_annotated-1.csv', sep=',')\n",
    "print(data.head(1))"
   ]
  },
  {
   "cell_type": "code",
   "execution_count": null,
   "metadata": {},
   "outputs": [],
   "source": [
    "# body\n",
    "print(data['extra_body'])"
   ]
  },
  {
   "cell_type": "code",
   "execution_count": null,
   "metadata": {},
   "outputs": [],
   "source": []
  }
 ],
 "metadata": {
  "kernelspec": {
   "display_name": "Python 3",
   "language": "python",
   "name": "python3"
  },
  "language_info": {
   "codemirror_mode": {
    "name": "ipython",
    "version": 3
   },
   "file_extension": ".py",
   "mimetype": "text/x-python",
   "name": "python",
   "nbconvert_exporter": "python",
   "pygments_lexer": "ipython3",
   "version": "3.6.4"
  },
  "toc": {
   "base_numbering": 1,
   "nav_menu": {},
   "number_sections": true,
   "sideBar": true,
   "skip_h1_title": false,
   "title_cell": "Table of Contents",
   "title_sidebar": "Contents",
   "toc_cell": false,
   "toc_position": {},
   "toc_section_display": true,
   "toc_window_display": false
  },
  "varInspector": {
   "cols": {
    "lenName": 16,
    "lenType": 16,
    "lenVar": 40
   },
   "kernels_config": {
    "python": {
     "delete_cmd_postfix": "",
     "delete_cmd_prefix": "del ",
     "library": "var_list.py",
     "varRefreshCmd": "print(var_dic_list())"
    },
    "r": {
     "delete_cmd_postfix": ") ",
     "delete_cmd_prefix": "rm(",
     "library": "var_list.r",
     "varRefreshCmd": "cat(var_dic_list()) "
    }
   },
   "types_to_exclude": [
    "module",
    "function",
    "builtin_function_or_method",
    "instance",
    "_Feature"
   ],
   "window_display": false
  }
 },
 "nbformat": 4,
 "nbformat_minor": 4
}
