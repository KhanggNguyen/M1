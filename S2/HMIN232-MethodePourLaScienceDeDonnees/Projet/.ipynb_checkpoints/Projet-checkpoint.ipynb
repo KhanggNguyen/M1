{
 "cells": [
  {
   "cell_type": "code",
   "execution_count": 37,
   "metadata": {},
   "outputs": [
    {
     "name": "stdout",
     "output_type": "stream",
     "text": [
      "0       On Oct. 2, 2019, a joint press conference at t...\n",
      "1       An Oct. 3, 2019, town hall event in New York C...\n",
      "2       In October 2019, a photograph supposedly showi...\n",
      "3       On Sep. 20, 2019, Huzlers published an article...\n",
      "4       We received multiple inquiries from readers in...\n",
      "                              ...                        \n",
      "4994    A few days after President Trump inadvertently...\n",
      "4995    On 4 June 2017, Facebook user Tianna Stipp sha...\n",
      "4996    On 1 June 2017, the web site London Web News p...\n",
      "4997    An increasingly common occurrence on the Inter...\n",
      "4998    In June 2017, entertainment web site Nevada Co...\n",
      "Name: extra_body, Length: 4999, dtype: object\n"
     ]
    }
   ],
   "source": [
    "import pandas as pd\n",
    "data = pd.read_csv('Dataset/claim_extraction_18_10_2019_annotated-1.csv', sep=',')\n"
   ]
  },
  {
   "cell_type": "code",
   "execution_count": null,
   "metadata": {},
   "outputs": [],
   "source": [
    "print(data['extra_body'])"
   ]
  },
  {
   "cell_type": "code",
   "execution_count": null,
   "metadata": {},
   "outputs": [],
   "source": []
  }
 ],
 "metadata": {
  "kernelspec": {
   "display_name": "Python 3",
   "language": "python",
   "name": "python3"
  },
  "language_info": {
   "codemirror_mode": {
    "name": "ipython",
    "version": 3
   },
   "file_extension": ".py",
   "mimetype": "text/x-python",
   "name": "python",
   "nbconvert_exporter": "python",
   "pygments_lexer": "ipython3",
   "version": "3.6.4"
  },
  "toc": {
   "base_numbering": 1,
   "nav_menu": {},
   "number_sections": true,
   "sideBar": true,
   "skip_h1_title": false,
   "title_cell": "Table of Contents",
   "title_sidebar": "Contents",
   "toc_cell": false,
   "toc_position": {},
   "toc_section_display": true,
   "toc_window_display": false
  },
  "varInspector": {
   "cols": {
    "lenName": 16,
    "lenType": 16,
    "lenVar": 40
   },
   "kernels_config": {
    "python": {
     "delete_cmd_postfix": "",
     "delete_cmd_prefix": "del ",
     "library": "var_list.py",
     "varRefreshCmd": "print(var_dic_list())"
    },
    "r": {
     "delete_cmd_postfix": ") ",
     "delete_cmd_prefix": "rm(",
     "library": "var_list.r",
     "varRefreshCmd": "cat(var_dic_list()) "
    }
   },
   "types_to_exclude": [
    "module",
    "function",
    "builtin_function_or_method",
    "instance",
    "_Feature"
   ],
   "window_display": false
  }
 },
 "nbformat": 4,
 "nbformat_minor": 4
}
