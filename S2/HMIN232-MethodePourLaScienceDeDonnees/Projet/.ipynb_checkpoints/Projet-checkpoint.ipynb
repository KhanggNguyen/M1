{
 "cells": [
  {
   "cell_type": "code",
   "execution_count": 1,
   "metadata": {
    "scrolled": false
   },
   "outputs": [],
   "source": [
    "# Groupe H :\n",
    "# Nom - numéro d'étudiant\n",
    "# \n",
    "# NGUYEN Huu Khang - 21506865\n",
    "# \n",
    "# NGUYEN Hoai Nam -\n",
    "# \n",
    "# NGUYEN Tran Tuan Nam -\n",
    "#\n",
    "# TRAN Thi Tra My - 21511002\n",
    "import re\n",
    "import pandas as pd\n",
    "import seaborn as sns\n",
    "import matplotlib.pyplot as plt\n",
    "\n",
    "#Load file\n",
    "data = pd.read_csv('Dataset/claim_extraction_18_10_2019_annotated.csv', sep=',')\n",
    "\n",
    "data2 = data.copy()"
   ]
  },
  {
   "cell_type": "code",
   "execution_count": 2,
   "metadata": {},
   "outputs": [],
   "source": [
    "#Import outil sklearn\n",
    "import time\n",
    "import sklearn\n",
    "from sklearn.naive_bayes import GaussianNB\n",
    "from sklearn.neighbors import KNeighborsClassifier\n",
    "from sklearn.tree import DecisionTreeClassifier\n",
    "from sklearn.ensemble import RandomForestClassifier\n",
    "from sklearn.svm import SVC\n",
    "from sklearn.metrics import confusion_matrix\n",
    "from sklearn.metrics import classification_report\n",
    "from sklearn.linear_model import LogisticRegression\n",
    "from sklearn.model_selection import GridSearchCV\n",
    "from sklearn.preprocessing import StandardScaler\n",
    "from sklearn.model_selection import train_test_split\n",
    "from sklearn.model_selection import KFold\n",
    "from sklearn.model_selection import cross_val_score\n",
    "from sklearn.feature_extraction.text import TfidfVectorizer\n",
    "from sklearn.metrics import accuracy_score\n",
    "from sklearn import preprocessing\n",
    "\n",
    "# Sickit learn met régulièrement à jour des versions et indique des futurs warnings\n",
    "# Ces deux lignes permettent de ne pas les afficher\n",
    "import warnings\n",
    "warnings.filterwarnings(\"ignore\", category = FutureWarning)\n",
    "\n",
    "#Import outil nltk pour traitement\n",
    "import nltk\n",
    "import unicodedata\n",
    "import contractions\n",
    "import inflect\n",
    "#nltk.download('all')\n",
    "from nltk.corpus import stopwords\n",
    "from nltk.tokenize import word_tokenize\n",
    "from nltk.stem import WordNetLemmatizer\n"
   ]
  },
  {
   "cell_type": "code",
   "execution_count": 22,
   "metadata": {},
   "outputs": [],
   "source": [
    "#initialize data3 \n",
    "data3 = data.copy()"
   ]
  },
  {
   "cell_type": "code",
   "execution_count": 23,
   "metadata": {},
   "outputs": [
    {
     "name": "stdout",
     "output_type": "stream",
     "text": [
      "(39218, 13)\n",
      "<class 'pandas.core.frame.DataFrame'>\n",
      "RangeIndex: 39218 entries, 0 to 39217\n",
      "Data columns (total 13 columns):\n",
      " #   Column                      Non-Null Count  Dtype  \n",
      "---  ------                      --------------  -----  \n",
      " 0   Unnamed: 0                  39218 non-null  int64  \n",
      " 1   claimReview_claimReviewed   39216 non-null  object \n",
      " 2   claimReview_datePublished   37913 non-null  object \n",
      " 3   claimReview_url             39218 non-null  object \n",
      " 4   creativeWork_author_name    17481 non-null  object \n",
      " 5   creativeWork_datePublished  17547 non-null  object \n",
      " 6   extra_body                  38866 non-null  object \n",
      " 7   extra_tags                  30239 non-null  object \n",
      " 8   extra_title                 38869 non-null  object \n",
      " 9   rating_alternateName        38964 non-null  object \n",
      " 10  rating_bestRating           3432 non-null   float64\n",
      " 11  rating_ratingValue          3432 non-null   float64\n",
      " 12  rating_worstRating          3164 non-null   float64\n",
      "dtypes: float64(3), int64(1), object(9)\n",
      "memory usage: 3.9+ MB\n"
     ]
    },
    {
     "data": {
      "text/plain": [
       "None"
      ]
     },
     "metadata": {},
     "output_type": "display_data"
    }
   ],
   "source": [
    "#Pré-traitement choisis : \n",
    "\n",
    "#On supprime les colonnes qui contiennent beaucoup des valeurs null et qui ne servent pas pour notre analyse\n",
    "\n",
    "data3 = data3.drop('claimReview_author', 1)#manque beaucoup de valeur\n",
    "data3 = data3.drop('claimReview_author_name', 1)# celui ci baisse la precision\n",
    "data3 = data3.drop('creativeWork_author_sameAs', 1)#manque beaucoup de valeur\n",
    "data3 = data3.drop('claimReview_author_url', 1)\n",
    "data3 = data3.drop('claimReview_source', 1)#les données qui répetè beaucoup, celui ci baisse la précision\n",
    "data3 = data3.drop('extra_entities_author', 1)#rend le classification très lourd\n",
    "data3 = data3.drop('extra_entities_body', 1)#rend le classification très lourd\n",
    "data3 = data3.drop('extra_entities_claimReview_claimReviewed', 1)#rend le classification très lourd\n",
    "data3 = data3.drop('extra_entities_keywords', 1)#rend le classification très lourd\n",
    "data3 = data3.drop('extra_refered_links',1) #presque tous les liens sont morts\n",
    "#data3 = data3.drop('rating_bestRating', 1)\n",
    "#data3 = data3.drop('rating_ratingValue', 1)\n",
    "#data3 = data3.drop('rating_worstRating', 1)\n",
    "\n",
    "print(data3.shape)\n",
    "display(data3.info())\n",
    "\n",
    "######Stop words\n",
    "#initialize stop words type\n",
    "stop_words = stopwords.words('english')\n",
    "\n",
    "######Pre traiter le données du texte\n",
    "def pretraiter(text):  \n",
    "    if(isinstance(text, str) and text ) :\n",
    "        #Remove contractions\n",
    "        text = contractions.fix(text)\n",
    "\n",
    "        #remove URL\n",
    "        text = re.sub(r\"http\\S+\", \"\", text)\n",
    "        \n",
    "        #remove photo url\n",
    "        text = re.sub(r\"pic.\\S+\", \"\", text)\n",
    "\n",
    "        # Tokenizing\n",
    "        tokenizedText = word_tokenize(text)\n",
    "        \n",
    "        #Remove non-ASCII characters from list of tokenized words\n",
    "        new_words = []\n",
    "        for word in tokenizedText:\n",
    "            new_word = unicodedata.normalize('NFKD', word).encode('ascii', 'ignore').decode('utf-8', 'ignore')\n",
    "            new_words.append(new_word)\n",
    "        tokenizeText = new_words\n",
    "\n",
    "        # Put all words in lowercase\n",
    "        tokenizedText = [word.lower() for word in tokenizedText]\n",
    "\n",
    "        # Delete ponctuations\n",
    "        tokenizedText = [word for word in tokenizedText if word.isalpha()]\n",
    "\n",
    "        #remove stop_word\n",
    "        tokenizedText = [word for word in tokenizedText if not word in stop_words]\n",
    "        \n",
    "        # Converting numbers\n",
    "        p = inflect.engine()\n",
    "        newWords = []\n",
    "        for word in tokenizedText:\n",
    "            if word.isdigit():\n",
    "                newWords.append(p.number_to_words(word))\n",
    "            else:\n",
    "                newWords.append(word)\n",
    "        tokenizedText = newWords\n",
    "\n",
    "        # Lemmatization\n",
    "        lemmatizer = WordNetLemmatizer()\n",
    "        tokenizedText = [lemmatizer.lemmatize(word, pos = 'v') for word in tokenizedText]\n",
    "\n",
    "        # Turning back tokens into a string\n",
    "        text = \"\".join([\" \" + i for i in tokenizedText]).strip()\n",
    "        return text\n",
    "    \n",
    "    \n",
    "##### Prétraiter alternateName\n",
    "def pretraiter_alternatename (text) :\n",
    "    if(isinstance(text, str) and text ) :\n",
    "        # Tokenizing\n",
    "        tokenizedText = word_tokenize(text)\n",
    "        \n",
    "        # Put all words in lowercase\n",
    "        tokenizedText = [word.lower() for word in tokenizedText]\n",
    "        \n",
    "        if tokenizedText[0] == 'true' :\n",
    "            return 1\n",
    "        else :\n",
    "            return 0\n",
    "        \n",
    "    else :\n",
    "        return 0\n"
   ]
  },
  {
   "cell_type": "code",
   "execution_count": 24,
   "metadata": {},
   "outputs": [],
   "source": [
    "#Exécution pretraitement\n",
    "data3['extra_body'] = data['extra_body'].apply(lambda x: pretraiter(x))\n",
    "data3['claimReview_claimReviewed'] = data['claimReview_claimReviewed'].apply(lambda x: pretraiter(x))\n",
    "data3['rating_alternateName'] = data['rating_alternateName'].apply(lambda x: pretraiter_alternatename(x))\n"
   ]
  },
  {
   "cell_type": "code",
   "execution_count": 25,
   "metadata": {},
   "outputs": [],
   "source": [
    "#Prétraitement avec les fonctions existants\n",
    "data3 = data3[data3['extra_body'].notna()]\n",
    "data3 = data3[data3['claimReview_claimReviewed'].notna()]\n",
    "data3['creativeWork_author_name'] = data3['creativeWork_author_name'].fillna('Inconnu')\n",
    "data3['extra_tags'] = data3['extra_tags'].fillna('Inconnu')\n",
    "data3['claimReview_datePublished'] = data3['claimReview_datePublished'].fillna('Inconnu')\n",
    "data3['creativeWork_datePublished'] = data3['creativeWork_datePublished'].fillna('Inconnu')\n",
    "data3['rating_bestRating'] = data3.replace(np.NaN, data3['rating_bestRating'].mean())\n",
    "data3['rating_ratingValue'] = data3.replace(np.NaN, data3['rating_ratingValue'].mean())\n",
    "data3['rating_worstRating'] = data3.replace(np.NaN, data3['rating_worstRating'].mean())"
   ]
  },
  {
   "cell_type": "code",
   "execution_count": 26,
   "metadata": {},
   "outputs": [],
   "source": [
    "le = preprocessing.LabelEncoder() #transformer les valeurs str en valeurs numérique\n",
    "le_data = data3.apply(le.fit_transform)\n",
    "array = le_data.values\n",
    "X = array[:,0:8]\n",
    "y = array[:,9]\n",
    "\n",
    "# Vectorisation avec TF-IDF\n",
    "# In[ ]:\n",
    "\n",
    "#vectorizer = TfidfVectorizer()\n",
    "#vectors = vectorizer.fit_transform(X)\n",
    "\n",
    "#X = vectors.toarray()\n",
    "\n",
    "\n",
    "validation_size=0.3 #30% du jeu de données pour le test\n",
    "testsize= 1-validation_size\n",
    "seed=30\n",
    "X_train,X_test,y_train,y_test=train_test_split(X,y,train_size=validation_size,random_state=seed,test_size=testsize)\n"
   ]
  },
  {
   "cell_type": "code",
   "execution_count": 27,
   "metadata": {},
   "outputs": [
    {
     "name": "stdout",
     "output_type": "stream",
     "text": [
      "\n",
      "NB accuracy : 0.887447160448447 \n",
      "\n",
      "\n",
      "KNN accuracy : 0.9425473258592171 \n",
      "\n"
     ]
    }
   ],
   "source": [
    "#classifications NB\n",
    "clf = GaussianNB()\n",
    "clf.fit(X_train, y_train)\n",
    "result = clf.predict(X_test)\n",
    "print('\\nNB accuracy :', accuracy_score(result, y_test),'\\n')\n",
    "\n",
    "#classification KNeighbor\n",
    "clf=KNeighborsClassifier(n_neighbors=4)\n",
    "clf.fit(X, y)\n",
    "result = clf.predict(X_test)\n",
    "print('\\nKNN accuracy :', accuracy_score(result, y_test),'\\n')"
   ]
  },
  {
   "cell_type": "code",
   "execution_count": 28,
   "metadata": {},
   "outputs": [
    {
     "name": "stdout",
     "output_type": "stream",
     "text": [
      "Time pour LR   1.6510288715362549\n",
      "LR: 0.881507 (0.129160)\n",
      "Time pour KNN   3.7092342376708984\n",
      "KNN: 0.888302 (0.090900)\n",
      "Time pour CART   3.180617094039917\n",
      "CART: 0.828247 (0.136318)\n",
      "Time pour NB   0.22561359405517578\n",
      "NB: 0.838043 (0.116852)\n"
     ]
    }
   ],
   "source": [
    "#Utilisation de Kfold cross validation \n",
    "seed = 7\n",
    "scoring = 'accuracy'\n",
    "models = []\n",
    "models.append(('LR', LogisticRegression(solver='lbfgs')))\n",
    "models.append(('KNN', KNeighborsClassifier()))\n",
    "models.append(('CART', DecisionTreeClassifier()))\n",
    "models.append(('NB', GaussianNB()))\n",
    "#models.append(('SVM', SVC(gamma='auto'))) #semble ne finisse jamais\n",
    "\n",
    "results = []\n",
    "names = []\n",
    "for name,model in models:\n",
    "    kfold = KFold(n_splits=10, random_state=seed)\n",
    "    start_time = time.time()\n",
    "    cv_results = cross_val_score(model, X, y, cv=kfold, scoring = scoring)\n",
    "    #pour avoir les paramètres utilisés dans le modèle enlever commentaire ligne suivante\n",
    "    #print (model.get_params())\n",
    "    print (\"Time pour\",name,\" \",time.time() - start_time)\n",
    "    results.append(cv_results)\n",
    "    names.append(name)\n",
    "    msg = \"%s: %f (%f)\" % (name, cv_results.mean(), cv_results.std())\n",
    "    print(msg) "
   ]
  },
  {
   "cell_type": "code",
   "execution_count": 29,
   "metadata": {},
   "outputs": [
    {
     "data": {
      "text/plain": [
       "[Text(0, 0, 'LR'), Text(0, 0, 'KNN'), Text(0, 0, 'CART'), Text(0, 0, 'NB')]"
      ]
     },
     "execution_count": 29,
     "metadata": {},
     "output_type": "execute_result"
    },
    {
     "data": {
      "image/png": "[encoded data removed]",
      "text/plain": [
       "<Figure size 432x288 with 1 Axes>"
      ]
     },
     "metadata": {
      "needs_background": "light"
     },
     "output_type": "display_data"
    }
   ],
   "source": [
    "#Visualiser le résultat afin de trouver le meilleur algorithme\n",
    "fig = plt.figure()\n",
    "fig.suptitle('Comparaison des algorithmes')\n",
    "ax = fig.add_subplot(111)\n",
    "plt.boxplot(results)\n",
    "ax.set_xticklabels(names)"
   ]
  },
  {
   "cell_type": "code",
   "execution_count": 144,
   "metadata": {},
   "outputs": [
    {
     "name": "stdout",
     "output_type": "stream",
     "text": [
      "<class 'pandas.core.frame.DataFrame'>\n",
      "RangeIndex: 39218 entries, 0 to 39217\n",
      "Data columns (total 23 columns):\n",
      " #   Column                                    Non-Null Count  Dtype  \n",
      "---  ------                                    --------------  -----  \n",
      " 0   Unnamed: 0                                39218 non-null  int64  \n",
      " 1   claimReview_author                        0 non-null      float64\n",
      " 2   claimReview_author_name                   39218 non-null  object \n",
      " 3   claimReview_author_url                    0 non-null      float64\n",
      " 4   claimReview_claimReviewed                 39216 non-null  object \n",
      " 5   claimReview_datePublished                 37913 non-null  object \n",
      " 6   claimReview_source                        39218 non-null  object \n",
      " 7   claimReview_url                           39218 non-null  object \n",
      " 8   creativeWork_author_name                  17481 non-null  object \n",
      " 9   creativeWork_author_sameAs                1310 non-null   object \n",
      " 10  creativeWork_datePublished                17547 non-null  object \n",
      " 11  extra_body                                38866 non-null  object \n",
      " 12  extra_entities_author                     39218 non-null  object \n",
      " 13  extra_entities_body                       39218 non-null  object \n",
      " 14  extra_entities_claimReview_claimReviewed  39218 non-null  object \n",
      " 15  extra_entities_keywords                   39218 non-null  object \n",
      " 16  extra_refered_links                       35393 non-null  object \n",
      " 17  extra_tags                                30239 non-null  object \n",
      " 18  extra_title                               38869 non-null  object \n",
      " 19  rating_alternateName                      38964 non-null  object \n",
      " 20  rating_bestRating                         3432 non-null   float64\n",
      " 21  rating_ratingValue                        3432 non-null   float64\n",
      " 22  rating_worstRating                        3164 non-null   float64\n",
      "dtypes: float64(5), int64(1), object(17)\n",
      "memory usage: 6.9+ MB\n",
      "None\n"
     ]
    }
   ],
   "source": [
    "print(data.info())"
   ]
  },
  {
   "cell_type": "code",
   "execution_count": null,
   "metadata": {},
   "outputs": [],
   "source": []
  }
 ],
 "metadata": {
  "kernelspec": {
   "display_name": "Python 3",
   "language": "python",
   "name": "python3"
  },
  "language_info": {
   "codemirror_mode": {
    "name": "ipython",
    "version": 3
   },
   "file_extension": ".py",
   "mimetype": "text/x-python",
   "name": "python",
   "nbconvert_exporter": "python",
   "pygments_lexer": "ipython3",
   "version": "3.8.2"
  },
  "toc": {
   "base_numbering": 1,
   "nav_menu": {},
   "number_sections": true,
   "sideBar": true,
   "skip_h1_title": false,
   "title_cell": "Table of Contents",
   "title_sidebar": "Contents",
   "toc_cell": false,
   "toc_position": {},
   "toc_section_display": true,
   "toc_window_display": false
  },
  "varInspector": {
   "cols": {
    "lenName": 16,
    "lenType": 16,
    "lenVar": 40
   },
   "kernels_config": {
    "python": {
     "delete_cmd_postfix": "",
     "delete_cmd_prefix": "del ",
     "library": "var_list.py",
     "varRefreshCmd": "print(var_dic_list())"
    },
    "r": {
     "delete_cmd_postfix": ") ",
     "delete_cmd_prefix": "rm(",
     "library": "var_list.r",
     "varRefreshCmd": "cat(var_dic_list()) "
    }
   },
   "types_to_exclude": [
    "module",
    "function",
    "builtin_function_or_method",
    "instance",
    "_Feature"
   ],
   "window_display": false
  }
 },
 "nbformat": 4,
 "nbformat_minor": 4
}
