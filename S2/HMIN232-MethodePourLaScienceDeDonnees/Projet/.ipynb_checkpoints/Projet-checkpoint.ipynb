{
 "cells": [
  {
   "cell_type": "code",
   "execution_count": 1,
   "metadata": {
    "scrolled": false
   },
   "outputs": [],
   "source": [
    "# Groupe H :\n",
    "# Nom - numéro d'étudiant\n",
    "# \n",
    "# NGUYEN Huu Khang - 21506865\n",
    "# \n",
    "# NGUYEN Hoai Nam -\n",
    "# \n",
    "# NGUYEN Tran Tuan Nam -\n",
    "#\n",
    "# TRAN Thi Tra My - 21511002\n",
    "import re\n",
    "import pandas as pd\n",
    "import seaborn as sns\n",
    "import matplotlib.pyplot as plt\n",
    "\n",
    "#Load file\n",
    "data = pd.read_csv('Dataset/claim_extraction_18_10_2019_annotated.csv', sep=',')\n",
    "\n",
    "data2 = data.copy()"
   ]
  },
  {
   "cell_type": "code",
   "execution_count": 155,
   "metadata": {},
   "outputs": [],
   "source": [
    "import time\n",
    "\n",
    "#Import outil sklearn\n",
    "import sklearn\n",
    "from sklearn.naive_bayes import GaussianNB\n",
    "from sklearn.neighbors import KNeighborsClassifier\n",
    "from sklearn.tree import DecisionTreeClassifier\n",
    "from sklearn.ensemble import RandomForestClassifier\n",
    "from sklearn.svm import SVC\n",
    "from sklearn.metrics import confusion_matrix\n",
    "from sklearn.metrics import classification_report\n",
    "from sklearn.linear_model import LogisticRegression\n",
    "from sklearn.model_selection import GridSearchCV\n",
    "from sklearn.preprocessing import StandardScaler\n",
    "from sklearn.model_selection import train_test_split\n",
    "from sklearn.model_selection import KFold\n",
    "from sklearn.model_selection import cross_val_score\n",
    "from sklearn.feature_extraction.text import TfidfVectorizer\n",
    "from sklearn.metrics import accuracy_score\n",
    "from sklearn import preprocessing\n",
    "from sklearn.decomposition import PCA\n",
    "from sklearn.pipeline import Pipeline\n",
    "\n",
    "# Sickit learn met régulièrement à jour des versions et indique des futurs warnings\n",
    "# Ces deux lignes permettent de ne pas les afficher\n",
    "import warnings\n",
    "warnings.filterwarnings(\"ignore\", category = FutureWarning)\n",
    "\n",
    "#Import outil nltk pour traitement\n",
    "import nltk\n",
    "import unicodedata\n",
    "import contractions\n",
    "import inflect\n",
    "#nltk.download('all')\n",
    "from nltk.corpus import stopwords\n",
    "from nltk.tokenize import word_tokenize\n",
    "from nltk.stem import WordNetLemmatizer\n",
    "\n",
    "#pickle\n",
    "import pickle\n"
   ]
  },
  {
   "cell_type": "code",
   "execution_count": 112,
   "metadata": {},
   "outputs": [
    {
     "name": "stdout",
     "output_type": "stream",
     "text": [
      "(39218, 13)\n",
      "<class 'pandas.core.frame.DataFrame'>\n",
      "RangeIndex: 39218 entries, 0 to 39217\n",
      "Data columns (total 13 columns):\n",
      " #   Column                      Non-Null Count  Dtype  \n",
      "---  ------                      --------------  -----  \n",
      " 0   Unnamed: 0                  39218 non-null  int64  \n",
      " 1   claimReview_claimReviewed   39216 non-null  object \n",
      " 2   claimReview_datePublished   37913 non-null  object \n",
      " 3   claimReview_url             39218 non-null  object \n",
      " 4   creativeWork_author_name    17481 non-null  object \n",
      " 5   creativeWork_datePublished  17547 non-null  object \n",
      " 6   extra_body                  38866 non-null  object \n",
      " 7   extra_tags                  30239 non-null  object \n",
      " 8   extra_title                 38869 non-null  object \n",
      " 9   rating_alternateName        38964 non-null  object \n",
      " 10  rating_bestRating           3432 non-null   float64\n",
      " 11  rating_ratingValue          3432 non-null   float64\n",
      " 12  rating_worstRating          3164 non-null   float64\n",
      "dtypes: float64(3), int64(1), object(9)\n",
      "memory usage: 3.9+ MB\n"
     ]
    },
    {
     "data": {
      "text/plain": [
       "None"
      ]
     },
     "metadata": {},
     "output_type": "display_data"
    }
   ],
   "source": [
    "#initialize data3 \n",
    "data3 = data.copy()\n",
    "\n",
    "#Pré-traitement choisis : \n",
    "\n",
    "#On supprime les colonnes qui contiennent beaucoup des valeurs null et qui ne servent pas pour notre analyse\n",
    "\n",
    "data3 = data3.drop('claimReview_author', 1)#manque beaucoup de valeur\n",
    "data3 = data3.drop('claimReview_author_name', 1)# celui ci baisse la precision\n",
    "data3 = data3.drop('creativeWork_author_sameAs', 1)#manque beaucoup de valeur\n",
    "data3 = data3.drop('claimReview_author_url', 1)\n",
    "data3 = data3.drop('claimReview_source', 1)#les données qui répetè beaucoup, celui ci baisse la précision\n",
    "data3 = data3.drop('extra_entities_author', 1)#rend le classification très lourd\n",
    "data3 = data3.drop('extra_entities_body', 1)#rend le classification très lourd\n",
    "data3 = data3.drop('extra_entities_claimReview_claimReviewed', 1)#rend le classification très lourd\n",
    "data3 = data3.drop('extra_entities_keywords', 1)#rend le classification très lourd\n",
    "data3 = data3.drop('extra_refered_links',1) #ne servent pas pour l'analyse et baisse la précision\n",
    "#data3 = data3.drop('rating_bestRating', 1)\n",
    "#data3 = data3.drop('rating_ratingValue', 1)\n",
    "#data3 = data3.drop('rating_worstRating', 1)\n",
    "\n",
    "print(data3.shape)\n",
    "display(data3.info())\n",
    "\n",
    "######Stop words\n",
    "#initialize stop words type\n",
    "stop_words = stopwords.words('english')\n",
    "\n",
    "######Pre traiter le données du texte\n",
    "def pretraiter(text):  \n",
    "    if(isinstance(text, str) and text ) :\n",
    "        #Remove contractions\n",
    "        text = contractions.fix(text)\n",
    "\n",
    "        #remove URL\n",
    "        text = re.sub(r\"http\\S+\", \"\", text)\n",
    "        \n",
    "        #remove photo url\n",
    "        text = re.sub(r\"pic.\\S+\", \"\", text)\n",
    "\n",
    "        # Tokenizing\n",
    "        tokenizedText = word_tokenize(text)\n",
    "        \n",
    "        #Remove non-ASCII characters from list of tokenized words\n",
    "        new_words = []\n",
    "        for word in tokenizedText:\n",
    "            new_word = unicodedata.normalize('NFKD', word).encode('ascii', 'ignore').decode('utf-8', 'ignore')\n",
    "            new_words.append(new_word)\n",
    "        tokenizeText = new_words\n",
    "\n",
    "        # Put all words in lowercase\n",
    "        tokenizedText = [word.lower() for word in tokenizedText]\n",
    "\n",
    "        # Delete ponctuations\n",
    "        tokenizedText = [word for word in tokenizedText if word.isalpha()]\n",
    "\n",
    "        #remove stop_word\n",
    "        tokenizedText = [word for word in tokenizedText if not word in stop_words]\n",
    "        \n",
    "        # Converting numbers\n",
    "        p = inflect.engine()\n",
    "        newWords = []\n",
    "        for word in tokenizedText:\n",
    "            if word.isdigit():\n",
    "                newWords.append(p.number_to_words(word))\n",
    "            else:\n",
    "                newWords.append(word)\n",
    "        tokenizedText = newWords\n",
    "\n",
    "        # Lemmatization\n",
    "        lemmatizer = WordNetLemmatizer()\n",
    "        tokenizedText = [lemmatizer.lemmatize(word, pos = 'v') for word in tokenizedText]\n",
    "\n",
    "        # Turning back tokens into a string\n",
    "        text = \"\".join([\" \" + i for i in tokenizedText]).strip()\n",
    "        return text\n",
    "    \n",
    "    \n",
    "##### Prétraiter alternateName\n",
    "def pretraiter_alternatename (text) :\n",
    "    if(isinstance(text, str) and text ) :\n",
    "        # Tokenizing\n",
    "        tokenizedText = word_tokenize(text)\n",
    "        \n",
    "        # Put all words in lowercase\n",
    "        tokenizedText = [word.lower() for word in tokenizedText]\n",
    "        \n",
    "        if tokenizedText[0] == 'true' :\n",
    "            return 1\n",
    "        else :\n",
    "            return 0\n",
    "        \n",
    "    else :\n",
    "        return 0\n",
    "    \n",
    "##### Supression les liens et remplace par son domaine\n",
    "def pretraiter_refered_links (text) :\n",
    "    if(isinstance(text, str) and text ) :\n",
    "        url_list = []\n",
    "        list = text.strip().split (\",\")\n",
    "        for element in list :\n",
    "            m = re.search('https?://([A-Za-z_0-9.-]+).*', element)\n",
    "            if m:\n",
    "                url_list.append(m.group(1))\n",
    "        return \"\".join([\",\" + i for i in url_list]).strip()\n",
    "    else :\n",
    "        return \"Inconnu\"\n",
    "    \n",
    "    \n"
   ]
  },
  {
   "cell_type": "code",
   "execution_count": 113,
   "metadata": {},
   "outputs": [],
   "source": [
    "#Exécution pretraitement\n",
    "data3['extra_body'] = data['extra_body'].apply(lambda x: pretraiter(x))\n",
    "data3['claimReview_claimReviewed'] = data['claimReview_claimReviewed'].apply(lambda x: pretraiter(x))\n",
    "data3['rating_alternateName'] = data['rating_alternateName'].apply(lambda x: pretraiter_alternatename(x))\n",
    "#data3['extra_refered_links'] = data['extra_refered_links'].apply(lambda x: pretraiter_refered_links(x))"
   ]
  },
  {
   "cell_type": "code",
   "execution_count": 114,
   "metadata": {},
   "outputs": [],
   "source": [
    "#Prétraitement avec les fonctions existants\n",
    "data3 = data3[data3['extra_body'].notna()]\n",
    "data3 = data3[data3['claimReview_claimReviewed'].notna()]\n",
    "data3['creativeWork_author_name'] = data3['creativeWork_author_name'].fillna('Inconnu')\n",
    "data3['extra_tags'] = data3['extra_tags'].fillna('Inconnu')\n",
    "data3['claimReview_datePublished'] = data3['claimReview_datePublished'].fillna('Inconnu')\n",
    "data3['creativeWork_datePublished'] = data3['creativeWork_datePublished'].fillna('Inconnu')\n",
    "data3['rating_bestRating'] = data3.replace(np.NaN, data3['rating_bestRating'].mean())\n",
    "data3['rating_ratingValue'] = data3.replace(np.NaN, data3['rating_ratingValue'].mean())\n",
    "data3['rating_worstRating'] = data3.replace(np.NaN, data3['rating_worstRating'].mean())"
   ]
  },
  {
   "cell_type": "code",
   "execution_count": 124,
   "metadata": {},
   "outputs": [],
   "source": [
    "le = preprocessing.LabelEncoder() #transformer les valeurs str en valeurs numérique\n",
    "le_data = data3.apply(le.fit_transform)\n",
    "array = le_data.values\n",
    "X = array[:,0:8]\n",
    "y = array[:,9]\n",
    "\n",
    "# Vectorisation avec TF-IDF\n",
    "# In[ ]:\n",
    "\n",
    "#vectorizer = TfidfVectorizer()\n",
    "#vectors = vectorizer.fit_transform(X)\n",
    "\n",
    "#X = vectors.toarray()\n",
    "\n",
    "\n",
    "validation_size=0.3 #30% du jeu de données pour le test\n",
    "testsize= 1-validation_size\n",
    "seed=30\n",
    "X_train,X_test,y_train,y_test=train_test_split(X,y,train_size=validation_size,random_state=seed,test_size=testsize)\n",
    "\n",
    "conf = confusion_matrix(y_test, result)\n",
    "print ('\\n matrice de confusion \\n',conf)\n",
    "print ('\\n',classification_report(y_test, result))"
   ]
  },
  {
   "cell_type": "code",
   "execution_count": 158,
   "metadata": {},
   "outputs": [
    {
     "name": "stdout",
     "output_type": "stream",
     "text": [
      "\n",
      "NB accuracy : 0.887373644550634 \n",
      "\n",
      "\n",
      "KNN accuracy : 0.9421062304723397 \n",
      "\n",
      "\n",
      "CART accuracy : 0.9078845800404337 \n",
      "\n"
     ]
    }
   ],
   "source": [
    "#classifications NB\n",
    "clf = GaussianNB()\n",
    "clf.fit(X_train, y_train)\n",
    "result = clf.predict(X_test)\n",
    "print('\\nNB accuracy :', accuracy_score(result, y_test),'\\n')\n",
    "\n",
    "#classification KNeighbor\n",
    "clf=KNeighborsClassifier(n_neighbors=4)\n",
    "clf.fit(X, y)\n",
    "result = clf.predict(X_test)\n",
    "print('\\nKNN accuracy :', accuracy_score(result, y_test),'\\n')\n",
    "\n",
    "#classification DecisionTreeClassifier\n",
    "clf=DecisionTreeClassifier(random_state=40)\n",
    "clf.fit(X_train, y_train)\n",
    "result = clf.predict(X_test)\n",
    "print('\\nCART accuracy :', accuracy_score(result, y_test),'\\n')\n"
   ]
  },
  {
   "cell_type": "code",
   "execution_count": 126,
   "metadata": {},
   "outputs": [
    {
     "name": "stdout",
     "output_type": "stream",
     "text": [
      "Time pour LR   1.4968421459197998\n",
      "LR: 0.882179 (0.002814)\n",
      "Time pour KNN   2.7070658206939697\n",
      "KNN: 0.925664 (0.002792)\n",
      "Time pour CART   2.4269890785217285\n",
      "CART: 0.907498 (0.004444)\n",
      "Time pour NB   0.17253684997558594\n",
      "NB: 0.886296 (0.002693)\n"
     ]
    }
   ],
   "source": [
    "#Classifieurs avec les données par défauts\n",
    "seed = 10\n",
    "scoring = 'accuracy'\n",
    "models = []\n",
    "models.append(('LR', LogisticRegression(solver='lbfgs')))\n",
    "models.append(('KNN', KNeighborsClassifier()))\n",
    "models.append(('CART', DecisionTreeClassifier()))\n",
    "models.append(('NB', GaussianNB()))\n",
    "#models.append(('SVM', SVC(gamma='auto'))) #semble ne finisse jamais\n",
    "\n",
    "results = []\n",
    "names = []\n",
    "for name,model in models:\n",
    "    kfold = KFold(n_splits=10, shuffle = True, random_state=seed)\n",
    "    start_time = time.time()\n",
    "    cv_results = cross_val_score(model, X, y, cv=kfold, scoring = scoring)\n",
    "    #pour avoir les paramètres utilisés dans le modèle enlever commentaire ligne suivante\n",
    "    #print (model.get_params())\n",
    "    print (\"Time pour\",name,\" \",time.time() - start_time)\n",
    "    results.append(cv_results)\n",
    "    names.append(name)\n",
    "    msg = \"%s: %f (%f)\" % (name, cv_results.mean(), cv_results.std())\n",
    "    print(msg) "
   ]
  },
  {
   "cell_type": "code",
   "execution_count": null,
   "metadata": {},
   "outputs": [],
   "source": [
    "#Visualiser le résultat\n",
    "fig = plt.figure()\n",
    "fig.suptitle('Comparaison des algorithmes')\n",
    "ax = fig.add_subplot(111)\n",
    "plt.boxplot(results)\n",
    "ax.set_xticklabels(names)"
   ]
  },
  {
   "cell_type": "code",
   "execution_count": 142,
   "metadata": {},
   "outputs": [],
   "source": [
    "#Gris search\n",
    "#Classifieur et ses parametres\n",
    "classifiers = {\n",
    "    'LogisticRegression' : LogisticRegression(solver='lbfgs'),\n",
    "    'KNeighborsClassifier': KNeighborsClassifier(),\n",
    "    'DecisionTreeClassifier': DecisionTreeClassifier(),\n",
    "}\n",
    "\n",
    "parameters = {\n",
    "    'LogisticRegression': [\n",
    "        {'penalty': ['l2']}, {'C': [0.001,0.01,0.1,1,10,100,1000]}\n",
    "    ],\n",
    "    'KNeighborsClassifier' : [\n",
    "        {'n_neighbors': list(range(1,15))}, {'metric': ['minkowski','euclidean','manhattan']}\n",
    "    ],\n",
    "    'DecisionTreeClassifier' : [\n",
    "        {'max_depth': [1,2,3,4,5,6,7,8,9,10]}, {'criterion': ['gini', 'entropy']}, {'min_samples_leaf': [1,2,3,4,5,6,7,8,9,10]}\n",
    "    ],\n",
    "}"
   ]
  },
  {
   "cell_type": "code",
   "execution_count": 143,
   "metadata": {},
   "outputs": [
    {
     "name": "stdout",
     "output_type": "stream",
     "text": [
      "Results from best to worst: \n",
      "\n",
      "Classifier:  DecisionTreeClassifier  with score 0.94  avec  DecisionTreeClassifier(ccp_alpha=0.0, class_weight=None, criterion='gini',\n",
      "                       max_depth=3, max_features=None, max_leaf_nodes=None,\n",
      "                       min_impurity_decrease=0.0, min_impurity_split=None,\n",
      "                       min_samples_leaf=1, min_samples_split=2,\n",
      "                       min_weight_fraction_leaf=0.0, presort='deprecated',\n",
      "                       random_state=None, splitter='best') \n",
      "\n",
      "Classifier:  KNeighborsClassifier  with score 0.92  avec  KNeighborsClassifier(algorithm='auto', leaf_size=30, metric='manhattan',\n",
      "                     metric_params=None, n_jobs=None, n_neighbors=5, p=2,\n",
      "                     weights='uniform') \n",
      "\n",
      "Classifier:  LogisticRegression  with score 0.88  avec  LogisticRegression(C=1.0, class_weight=None, dual=False, fit_intercept=True,\n",
      "                   intercept_scaling=1, l1_ratio=None, max_iter=100,\n",
      "                   multi_class='auto', n_jobs=None, penalty='l2',\n",
      "                   random_state=None, solver='lbfgs', tol=0.0001, verbose=0,\n",
      "                   warm_start=False) \n",
      "\n"
     ]
    }
   ],
   "source": [
    "class Result:\n",
    "    def __init__(self,name, score, parameters):\n",
    "        self.name = name\n",
    "        self.parameters = parameters\n",
    "        self.score = score\n",
    "\n",
    "    def __repr__(self):\n",
    "        return repr((self.name, self.score, self.parameters))\n",
    "    \n",
    "results = []\n",
    "for key, value in classifiers.items():\n",
    "    gd_sr = GridSearchCV(estimator = value, param_grid = parameters[key], scoring = \"accuracy\", cv = 5, n_jobs = 1, iid = True)\n",
    "    gd_sr.fit(X_train, y_train)\n",
    "    result = Result(key, gd_sr.best_score_, gd_sr.best_estimator_)\n",
    "    results.append(result)\n",
    "\n",
    "results = sorted(results, key = lambda result: result.score, reverse = True)\n",
    "\n",
    "print(\"Results from best to worst: \\n\")\n",
    "for result in results:\n",
    "    print (\"Classifier: \", result.name,\n",
    "    \" with score %0.2f \" %result.score, \n",
    "    \"avec \", result.parameters,'\\n')\n"
   ]
  },
  {
   "cell_type": "code",
   "execution_count": 159,
   "metadata": {},
   "outputs": [
    {
     "name": "stdout",
     "output_type": "stream",
     "text": [
      "Création du pipeline \n",
      "\n",
      "\n",
      " accuracy: 0.8165043190589965 \n",
      "\n",
      "\n",
      "Matrice de confusion: \n",
      " [[21449  2574]\n",
      " [ 2418   764]] \n",
      "\n",
      "\n",
      "               precision    recall  f1-score   support\n",
      "\n",
      "           0       0.90      0.89      0.90     24023\n",
      "           1       0.23      0.24      0.23      3182\n",
      "\n",
      "    accuracy                           0.82     27205\n",
      "   macro avg       0.56      0.57      0.57     27205\n",
      "weighted avg       0.82      0.82      0.82     27205\n",
      " \n",
      "\n"
     ]
    }
   ],
   "source": [
    "# Utilisation d'une pipeline pour sauvegarder le meilleur modèle\n",
    "\n",
    "print ('Création du pipeline \\n')\n",
    "pipeline = Pipeline([('scl', StandardScaler()),\n",
    " ('pca', PCA(n_components=2)),\n",
    " ('clf', DecisionTreeClassifier(random_state=40))])\n",
    "\n",
    "pipeline.fit(X_train, y_train)\n",
    "result = pipeline.predict(X_test)\n",
    "\n",
    "print('\\n accuracy:',accuracy_score(result, y_test),'\\n')\n",
    "\n",
    "matrix = confusion_matrix(y_test, result)\n",
    "print ('\\nMatrice de confusion: \\n', matrix, \"\\n\")\n",
    "\n",
    "print ('\\n', classification_report(y_test, result), \"\\n\")"
   ]
  },
  {
   "cell_type": "code",
   "execution_count": 162,
   "metadata": {},
   "outputs": [
    {
     "name": "stdout",
     "output_type": "stream",
     "text": [
      "Modèle chargé DecisionTreeClassifier(ccp_alpha=0.0, class_weight=None, criterion='gini',\n",
      "                       max_depth=None, max_features=None, max_leaf_nodes=None,\n",
      "                       min_impurity_decrease=0.0, min_impurity_split=None,\n",
      "                       min_samples_leaf=1, min_samples_split=2,\n",
      "                       min_weight_fraction_leaf=0.0, presort='deprecated',\n",
      "                       random_state=40, splitter='best') \n",
      "\n",
      "\n",
      " accuracy:\n",
      "\n",
      "0.9078845800404337 \n",
      "\n",
      "\n",
      " matrice de confusion \n",
      " [[22710  1313]\n",
      " [ 1193  1989]]\n",
      "\n",
      "               precision    recall  f1-score   support\n",
      "\n",
      "           0       0.95      0.95      0.95     24023\n",
      "           1       0.60      0.63      0.61      3182\n",
      "\n",
      "    accuracy                           0.91     27205\n",
      "   macro avg       0.78      0.79      0.78     27205\n",
      "weighted avg       0.91      0.91      0.91     27205\n",
      "\n"
     ]
    }
   ],
   "source": [
    "#Sauvegarder le modèle choisi\n",
    "\n",
    "clf=DecisionTreeClassifier(random_state=40)\n",
    "clf.fit(X_train, y_train)\n",
    "\n",
    "filename = 'pkl_modelNB.sav'\n",
    "pickle.dump(clf, open(filename, 'wb'))\n",
    "\n",
    "clf_loaded = pickle.load(open(filename, 'rb'))\n",
    "print ('Modèle chargé',clf_loaded,'\\n')\n",
    "result = clf_loaded.predict(X_test)\n",
    "\n",
    "print('\\n accuracy:\\n')\n",
    "print (accuracy_score(result, y_test),'\\n')\n",
    "\n",
    "conf = confusion_matrix(y_test, result)\n",
    "print ('\\n matrice de confusion \\n',conf)\n",
    "print ('\\n',classification_report(y_test, result))\n",
    "\n",
    "\n",
    "pickle.dump(pipeline, open('groupeH.pkl', 'wb'))\n",
    "clf_loaded = pickle.load(open('groupeH.pkl', 'rb'))"
   ]
  },
  {
   "cell_type": "code",
   "execution_count": 74,
   "metadata": {},
   "outputs": [],
   "source": [
    "#data3.to_csv('clean_data_fact-checking.csv', sep=';', index=False)"
   ]
  },
  {
   "cell_type": "code",
   "execution_count": 83,
   "metadata": {},
   "outputs": [
    {
     "name": "stdout",
     "output_type": "stream",
     "text": [
      "https://t.co/Oo5Q56ALAu,https://twitter.com/ianbremmer/status/1180501727960866816?ref_src=twsrc%5Etfw,https://www.instagram.com/p/B3H7aF7hHAa/,https://www.cbsnews.com/news/sauli-niinisto-and-trump-press-conference-president-finland-receives-praise-and-memes-after-white-house-meeting/,https://twitter.com/hashtag/TrumpMeltdown?src=hash&ref_src=twsrc%5Etfw,https://t.co/Ko4o4mxVLN,https://twitter.com/DogsHateBoots/status/1179476215327010816?ref_src=twsrc%5Etfw\n"
     ]
    }
   ],
   "source": [
    "print(data['extra_refered_links'][0])"
   ]
  },
  {
   "cell_type": "code",
   "execution_count": null,
   "metadata": {},
   "outputs": [],
   "source": []
  }
 ],
 "metadata": {
  "kernelspec": {
   "display_name": "Python 3",
   "language": "python",
   "name": "python3"
  },
  "language_info": {
   "codemirror_mode": {
    "name": "ipython",
    "version": 3
   },
   "file_extension": ".py",
   "mimetype": "text/x-python",
   "name": "python",
   "nbconvert_exporter": "python",
   "pygments_lexer": "ipython3",
   "version": "3.8.2"
  },
  "toc": {
   "base_numbering": 1,
   "nav_menu": {},
   "number_sections": true,
   "sideBar": true,
   "skip_h1_title": false,
   "title_cell": "Table of Contents",
   "title_sidebar": "Contents",
   "toc_cell": false,
   "toc_position": {},
   "toc_section_display": true,
   "toc_window_display": false
  },
  "varInspector": {
   "cols": {
    "lenName": 16,
    "lenType": 16,
    "lenVar": 40
   },
   "kernels_config": {
    "python": {
     "delete_cmd_postfix": "",
     "delete_cmd_prefix": "del ",
     "library": "var_list.py",
     "varRefreshCmd": "print(var_dic_list())"
    },
    "r": {
     "delete_cmd_postfix": ") ",
     "delete_cmd_prefix": "rm(",
     "library": "var_list.r",
     "varRefreshCmd": "cat(var_dic_list()) "
    }
   },
   "types_to_exclude": [
    "module",
    "function",
    "builtin_function_or_method",
    "instance",
    "_Feature"
   ],
   "window_display": false
  }
 },
 "nbformat": 4,
 "nbformat_minor": 4
}
